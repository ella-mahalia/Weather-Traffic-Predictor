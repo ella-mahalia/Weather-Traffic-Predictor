{
 "cells": [
  {
   "cell_type": "code",
   "execution_count": 1,
   "metadata": {},
   "outputs": [],
   "source": [
    "# Import necessary libaries \n",
    "\n",
    "import pandas as pd\n",
    "import requests\n",
    "import pygeohash as geohash\n",
    "\n",
    "api_key = '86616bb6e791a265c60e907399c20a3f'\n"
   ]
  },
  {
   "cell_type": "code",
   "execution_count": 2,
   "metadata": {},
   "outputs": [],
   "source": [
    "#Load the dataset\n",
    "df = pd.read_csv('US_Accidents_March23.csv.zip')"
   ]
  },
  {
   "cell_type": "code",
   "execution_count": 3,
   "metadata": {},
   "outputs": [
    {
     "name": "stdout",
     "output_type": "stream",
     "text": [
      "<class 'pandas.core.frame.DataFrame'>\n",
      "Index: 3554549 entries, 3402762 to 7728393\n",
      "Data columns (total 46 columns):\n",
      " #   Column                 Dtype  \n",
      "---  ------                 -----  \n",
      " 0   ID                     object \n",
      " 1   Source                 object \n",
      " 2   Severity               int64  \n",
      " 3   Start_Time             object \n",
      " 4   End_Time               object \n",
      " 5   Start_Lat              float64\n",
      " 6   Start_Lng              float64\n",
      " 7   End_Lat                float64\n",
      " 8   End_Lng                float64\n",
      " 9   Distance(mi)           float64\n",
      " 10  Description            object \n",
      " 11  Street                 object \n",
      " 12  City                   object \n",
      " 13  County                 object \n",
      " 14  State                  object \n",
      " 15  Zipcode                object \n",
      " 16  Country                object \n",
      " 17  Timezone               object \n",
      " 18  Airport_Code           object \n",
      " 19  Weather_Timestamp      object \n",
      " 20  Temperature(F)         float64\n",
      " 21  Wind_Chill(F)          float64\n",
      " 22  Humidity(%)            float64\n",
      " 23  Pressure(in)           float64\n",
      " 24  Visibility(mi)         float64\n",
      " 25  Wind_Direction         object \n",
      " 26  Wind_Speed(mph)        float64\n",
      " 27  Precipitation(in)      float64\n",
      " 28  Weather_Condition      object \n",
      " 29  Amenity                bool   \n",
      " 30  Bump                   bool   \n",
      " 31  Crossing               bool   \n",
      " 32  Give_Way               bool   \n",
      " 33  Junction               bool   \n",
      " 34  No_Exit                bool   \n",
      " 35  Railway                bool   \n",
      " 36  Roundabout             bool   \n",
      " 37  Station                bool   \n",
      " 38  Stop                   bool   \n",
      " 39  Traffic_Calming        bool   \n",
      " 40  Traffic_Signal         bool   \n",
      " 41  Turning_Loop           bool   \n",
      " 42  Sunrise_Sunset         object \n",
      " 43  Civil_Twilight         object \n",
      " 44  Nautical_Twilight      object \n",
      " 45  Astronomical_Twilight  object \n",
      "dtypes: bool(13), float64(12), int64(1), object(20)\n",
      "memory usage: 966.1+ MB\n",
      "None\n"
     ]
    }
   ],
   "source": [
    "#Drop missing values in dataset\n",
    "df.dropna(inplace=True)\n",
    "\n",
    "print(df.info())"
   ]
  },
  {
   "cell_type": "code",
   "execution_count": 4,
   "metadata": {},
   "outputs": [
    {
     "name": "stdout",
     "output_type": "stream",
     "text": [
      "           Severity     Start_Lat     Start_Lng       End_Lat       End_Lng  \\\n",
      "count  3.554549e+06  3.554549e+06  3.554549e+06  3.554549e+06  3.554549e+06   \n",
      "mean   2.075250e+00  3.612065e+01 -9.521825e+01  3.612085e+01 -9.521794e+01   \n",
      "std    3.837690e-01  5.352725e+00  1.801263e+01  5.352925e+00  1.801231e+01   \n",
      "min    1.000000e+00  2.456603e+01 -1.245481e+02  2.456601e+01 -1.245457e+02   \n",
      "25%    2.000000e+00  3.318008e+01 -1.175560e+02  3.317923e+01 -1.175546e+02   \n",
      "50%    2.000000e+00  3.604521e+01 -8.731360e+01  3.604546e+01 -8.731348e+01   \n",
      "75%    2.000000e+00  4.013914e+01 -8.021014e+01  4.013945e+01 -8.020993e+01   \n",
      "max    4.000000e+00  4.900058e+01 -6.748413e+01  4.907500e+01 -6.748413e+01   \n",
      "\n",
      "       Distance(mi)  Temperature(F)  Wind_Chill(F)   Humidity(%)  \\\n",
      "count  3.554549e+06    3.554549e+06   3.554549e+06  3.554549e+06   \n",
      "mean   8.477587e-01    6.107390e+01   5.974164e+01  6.377543e+01   \n",
      "std    1.823782e+00    1.939819e+01   2.168704e+01  2.292699e+01   \n",
      "min    0.000000e+00   -4.500000e+01  -6.300000e+01  1.000000e+00   \n",
      "25%    6.700000e-02    4.800000e+01   4.600000e+01  4.700000e+01   \n",
      "50%    2.640000e-01    6.300000e+01   6.300000e+01  6.600000e+01   \n",
      "75%    9.240000e-01    7.600000e+01   7.600000e+01  8.300000e+01   \n",
      "max    1.551860e+02    1.960000e+02   1.960000e+02  1.000000e+02   \n",
      "\n",
      "       Pressure(in)  Visibility(mi)  Wind_Speed(mph)  Precipitation(in)  \n",
      "count  3.554549e+06    3.554549e+06     3.554549e+06       3.554549e+06  \n",
      "mean   2.935331e+01    9.051824e+00     7.442995e+00       5.601895e-03  \n",
      "std    1.137460e+00    2.579055e+00     5.588608e+00       5.116155e-02  \n",
      "min    0.000000e+00    0.000000e+00     0.000000e+00       0.000000e+00  \n",
      "25%    2.919000e+01    1.000000e+01     3.000000e+00       0.000000e+00  \n",
      "50%    2.972000e+01    1.000000e+01     7.000000e+00       0.000000e+00  \n",
      "75%    2.997000e+01    1.000000e+01     1.000000e+01       0.000000e+00  \n",
      "max    5.863000e+01    1.000000e+02     1.087000e+03       2.400000e+01  \n"
     ]
    }
   ],
   "source": [
    "print(df.describe())"
   ]
  },
  {
   "cell_type": "code",
   "execution_count": 5,
   "metadata": {},
   "outputs": [
    {
     "name": "stdout",
     "output_type": "stream",
     "text": [
      "                ID   Source  Severity           Start_Time  \\\n",
      "3402762  A-3412645  Source1         3  2016-02-08 00:37:08   \n",
      "3402767  A-3412650  Source1         3  2016-02-08 07:53:43   \n",
      "3402771  A-3412654  Source1         2  2016-02-08 11:51:46   \n",
      "3402773  A-3412656  Source1         2  2016-02-08 15:16:43   \n",
      "3402774  A-3412657  Source1         2  2016-02-08 15:43:50   \n",
      "\n",
      "                    End_Time  Start_Lat  Start_Lng    End_Lat    End_Lng  \\\n",
      "3402762  2016-02-08 06:37:08  40.108910 -83.092860  40.112060 -83.031870   \n",
      "3402767  2016-02-08 13:53:43  39.172393 -84.492792  39.170476 -84.501798   \n",
      "3402771  2016-02-08 17:51:46  41.375310 -81.820170  41.367860 -81.821740   \n",
      "3402773  2016-02-08 21:16:43  40.109310 -82.968490  40.110780 -82.984000   \n",
      "3402774  2016-02-08 21:43:50  39.192880 -84.477230  39.196150 -84.473350   \n",
      "\n",
      "         Distance(mi)  ... Roundabout Station   Stop Traffic_Calming  \\\n",
      "3402762         3.230  ...      False   False  False           False   \n",
      "3402767         0.500  ...      False   False  False           False   \n",
      "3402771         0.521  ...      False   False  False           False   \n",
      "3402773         0.826  ...      False   False  False           False   \n",
      "3402774         0.307  ...      False   False  False           False   \n",
      "\n",
      "        Traffic_Signal Turning_Loop Sunrise_Sunset Civil_Twilight  \\\n",
      "3402762          False        False          Night          Night   \n",
      "3402767          False        False            Day            Day   \n",
      "3402771          False        False            Day            Day   \n",
      "3402773          False        False            Day            Day   \n",
      "3402774          False        False            Day            Day   \n",
      "\n",
      "        Nautical_Twilight Astronomical_Twilight  \n",
      "3402762             Night                 Night  \n",
      "3402767               Day                   Day  \n",
      "3402771               Day                   Day  \n",
      "3402773               Day                   Day  \n",
      "3402774               Day                   Day  \n",
      "\n",
      "[5 rows x 46 columns]\n"
     ]
    }
   ],
   "source": [
    "print(df.head())"
   ]
  },
  {
   "cell_type": "code",
   "execution_count": 6,
   "metadata": {},
   "outputs": [],
   "source": [
    "# Convert timestamps to datetime format, accounting for fractional seconds\n",
    "df['start_time'] = pd.to_datetime(df['Start_Time'], errors='coerce', format=\"%Y-%m-%d %H:%M:%S.%f\")\n",
    "df['end_time'] = pd.to_datetime(df['End_Time'], errors='coerce', format=\"%Y-%m-%d %H:%M:%S.%f\")\n",
    "df['weather_timestamp'] = pd.to_datetime(df['Weather_Timestamp'], errors='coerce', format=\"%Y-%m-%d %H:%M:%S.%f\")\n"
   ]
  },
  {
   "cell_type": "code",
   "execution_count": 7,
   "metadata": {},
   "outputs": [],
   "source": [
    "#Drop unecessary columns \n",
    "df = df.drop(columns=['ID', 'Source'])"
   ]
  },
  {
   "cell_type": "code",
   "execution_count": 8,
   "metadata": {},
   "outputs": [],
   "source": [
    "df = df.drop_duplicates()"
   ]
  },
  {
   "cell_type": "code",
   "execution_count": 9,
   "metadata": {},
   "outputs": [],
   "source": [
    "#Feature Engineering\n",
    "\n",
    "# Time based features: Day of the wee, hour of the day, is it a weekend/holiday \n",
    "df['hour_of_day'] = df['weather_timestamp'].dt.hour\n",
    "df['day_of_week'] = df['start_time'].dt.dayofweek\n",
    "df['is_weekend'] = df['day_of_week'].isin([5,6]).astype(int) \n",
    "df['month_of_year'] = df['weather_timestamp'].dt.month\n",
    "\n",
    "#Season\n",
    "def get_season(month):\n",
    "    if month in[12,1,2]:\n",
    "        return 'Winter'\n",
    "    elif month in [3,4,5]:\n",
    "        return 'Spring'\n",
    "    elif month in [6,7,8]:\n",
    "        return 'Summer'\n",
    "    else:\n",
    "        return 'Fall'\n",
    "    \n",
    "df['season'] = df['month_of_year'].apply(get_season)"
   ]
  },
  {
   "cell_type": "code",
   "execution_count": 10,
   "metadata": {},
   "outputs": [],
   "source": [
    "#Location based features \n",
    "df['Zip_Code'] = df['Zipcode']\n",
    "df['State'] = df['State']\n",
    "df['County'] = df['County']\n",
    "\n",
    "#Using geohash , to group incidents based on geographical locations\n",
    "df['geohash'] = df.apply(lambda row: geohash.encode(row['Start_Lat'], row['Start_Lng']), axis=1)\n",
    "\n",
    "#Incident Severity Features \n",
    "df['incident duration'] = (df['end_time'] - df['start_time']).dt.total_seconds() / 60\n",
    "\n",
    "#Severity level\n",
    "df['severity_level'] = df['Severity'].apply(lambda x: 'high' if x>=3 else 'low')\n",
    "\n",
    "#Categorize wind speed \n",
    "\n",
    "#Wind speed needs to be numeric \n",
    "df ['Wind_Speed(mph)'] = pd.to_numeric(df['Wind_Speed(mph)'], errors='coerce')\n",
    "\n",
    "df = df.dropna(subset=['Wind_Speed(mph)'])\n",
    "\n",
    "df['wind_speed_category'] = pd.cut(\n",
    "    df['Wind_Speed(mph)'],\n",
    "    bins=[0, 10, 20, 100],\n",
    "    labels=['Low', 'Medium', 'High'])\n",
    "\n",
    "\n",
    "#Binary feature for visibility\n",
    "df['low_visibilty'] = df['Visibility(mi)'].apply(lambda x: 1 if x < 1000 else 0)\n",
    "\n",
    "#Number of incidents per location\n",
    "df['incident_count'] = df.groupby('Zip_Code')['Severity'].transform('count')"
   ]
  },
  {
   "cell_type": "code",
   "execution_count": 12,
   "metadata": {},
   "outputs": [],
   "source": [
    "def get_weather_data(lat, lon, api_key):\n",
    "    url = f'http://api.openweathermap.org/data/2.5/weather?lat={lat}&lon={lon}&appid={api_key}&units=metric'\n",
    "    response = requests.get(url)\n",
    "    if response.status_code == 200:\n",
    "        return response.json()\n",
    "    else:\n",
    "        return None"
   ]
  },
  {
   "cell_type": "code",
   "execution_count": 13,
   "metadata": {},
   "outputs": [],
   "source": [
    "def fetch_weather_for_incidents(df, api_key):\n",
    "    weather_features = []\n",
    "\n",
    "    for index, row in df.iterrows():\n",
    "        lat = row['Start_Lat']\n",
    "        lon = row['Start_Lng']\n",
    "\n",
    "        #Fetch the weather data for this incident location\n",
    "        weather_data = get_weather_data(lat, lon, api_key)\n",
    "\n",
    "        if weather_data:\n",
    "                weather_features.append({\n",
    "                'temperature': weather_data['main']['temp'],\n",
    "                'humidity': weather_data['main']['humidity'],\n",
    "                'weather_description': weather_data['weather'][0]['description'],\n",
    "                'wind_speed': weather_data['wind']['speed'],\n",
    "                'visibility': weather_data.get('visibility', None)\n",
    "            })\n",
    "        else:\n",
    "            #If API fails, add NaN or default values for weather features \n",
    "            weather_features.append({\n",
    "                'temperature': None,\n",
    "                'humidity': None,\n",
    "                'weather_description': None,\n",
    "                'wind_speed':None,\n",
    "                'visibility': None\n",
    "            })\n",
    "\n",
    "    #Add the weather features to the DataFrame\n",
    "    weather_df = pd.DataFrame(weather_features)\n",
    "    df = pd.concat([df, weather_df], axis=1)\n",
    "\n",
    "    return df\n"
   ]
  },
  {
   "cell_type": "code",
   "execution_count": null,
   "metadata": {},
   "outputs": [],
   "source": [
    "df = fetch_weather_for_incidents(df, api_key)\n",
    "\n",
    "print(df.head())\n"
   ]
  }
 ],
 "metadata": {
  "kernelspec": {
   "display_name": "Python 3",
   "language": "python",
   "name": "python3"
  },
  "language_info": {
   "codemirror_mode": {
    "name": "ipython",
    "version": 3
   },
   "file_extension": ".py",
   "mimetype": "text/x-python",
   "name": "python",
   "nbconvert_exporter": "python",
   "pygments_lexer": "ipython3",
   "version": "3.13.0"
  }
 },
 "nbformat": 4,
 "nbformat_minor": 2
}
